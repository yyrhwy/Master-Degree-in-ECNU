{
 "cells": [
  {
   "cell_type": "markdown",
   "metadata": {},
   "source": [
    "# scatter_geo创建世界地图 + 散点图"
   ]
  },
  {
   "cell_type": "code",
   "execution_count": 3,
   "metadata": {
    "scrolled": true
   },
   "outputs": [
    {
     "ename": "ModuleNotFoundError",
     "evalue": "No module named 'plotly.express'",
     "output_type": "error",
     "traceback": [
      "\u001b[1;31m---------------------------------------------------------------------------\u001b[0m",
      "\u001b[1;31mModuleNotFoundError\u001b[0m                       Traceback (most recent call last)",
      "\u001b[1;32m<ipython-input-3-70efb83acca0>\u001b[0m in \u001b[0;36m<module>\u001b[1;34m\u001b[0m\n\u001b[1;32m----> 1\u001b[1;33m \u001b[1;32mimport\u001b[0m \u001b[0mplotly_express\u001b[0m \u001b[1;32mas\u001b[0m \u001b[0mpx\u001b[0m\u001b[1;33m\u001b[0m\u001b[1;33m\u001b[0m\u001b[0m\n\u001b[0m\u001b[0;32m      2\u001b[0m \u001b[1;32mimport\u001b[0m \u001b[0mpandas\u001b[0m \u001b[1;32mas\u001b[0m \u001b[0mpd\u001b[0m\u001b[1;33m\u001b[0m\u001b[1;33m\u001b[0m\u001b[0m\n\u001b[0;32m      3\u001b[0m \u001b[1;32mimport\u001b[0m \u001b[0mnumpy\u001b[0m \u001b[1;32mas\u001b[0m \u001b[0mnp\u001b[0m\u001b[1;33m\u001b[0m\u001b[1;33m\u001b[0m\u001b[0m\n\u001b[0;32m      4\u001b[0m \u001b[1;32mimport\u001b[0m \u001b[0mmath\u001b[0m\u001b[1;33m\u001b[0m\u001b[1;33m\u001b[0m\u001b[0m\n\u001b[0;32m      5\u001b[0m \u001b[1;33m\u001b[0m\u001b[0m\n",
      "\u001b[1;32mC:\\ProgramData\\Anaconda3\\lib\\site-packages\\plotly_express\\__init__.py\u001b[0m in \u001b[0;36m<module>\u001b[1;34m\u001b[0m\n\u001b[0;32m      5\u001b[0m \u001b[0m__version__\u001b[0m \u001b[1;33m=\u001b[0m \u001b[1;34m\"0.4.0\"\u001b[0m\u001b[1;33m\u001b[0m\u001b[1;33m\u001b[0m\u001b[0m\n\u001b[0;32m      6\u001b[0m \u001b[1;33m\u001b[0m\u001b[0m\n\u001b[1;32m----> 7\u001b[1;33m \u001b[1;32mfrom\u001b[0m \u001b[0mplotly\u001b[0m\u001b[1;33m.\u001b[0m\u001b[0mexpress\u001b[0m \u001b[1;32mimport\u001b[0m \u001b[1;33m*\u001b[0m\u001b[1;33m\u001b[0m\u001b[1;33m\u001b[0m\u001b[0m\n\u001b[0m\u001b[0;32m      8\u001b[0m \u001b[1;32mfrom\u001b[0m \u001b[0mplotly\u001b[0m\u001b[1;33m.\u001b[0m\u001b[0mexpress\u001b[0m \u001b[1;32mimport\u001b[0m \u001b[0mline_3d\u001b[0m\u001b[1;33m\u001b[0m\u001b[1;33m\u001b[0m\u001b[0m\n",
      "\u001b[1;31mModuleNotFoundError\u001b[0m: No module named 'plotly.express'"
     ]
    }
   ],
   "source": [
    "import plotly_express as px\n",
    "import pandas as pd\n",
    "import numpy as np\n",
    "import math\n",
    "\n",
    "px.set_config_file(offline=True)"
   ]
  },
  {
   "cell_type": "code",
   "execution_count": null,
   "metadata": {},
   "outputs": [],
   "source": [
    "# 由于plotly_express使用的是三码国家缩写，因此需要编写一个字典来转换原始数据中的“施引国家或地区”字段\n",
    "country_dict = {'USA':'USA', 'Peolpes R China':'CHN', 'England':'GBR', 'Canada':'CAN', 'South Korea':'KOR',\n",
    "               'Australia':'AUS', 'Denmark':'DNK', 'Singapore':'SGP', 'Netherlands':'BES', 'Liechtenstein':'LIE',\n",
    "               'Spain':'ESP', 'Sweden':'SWE', 'Finland':'FIN', 'Taiwan':'TWN', 'U Arab Emirates':'ARE', \n",
    "               'Belgium':'BEL', 'Norway':'NOR', 'Germany':'DEU', 'France':'FRA', 'Switzerland':'CHE', \n",
    "               'Qatar':'QAT', 'Oman':'OMN', 'Turkey':'TUR', 'Scotland':'GBR', 'Pakistan':'PAK', 'Italy':'ITA',\n",
    "               'Mauritius':'MUS', 'Wales':'GBR', 'India':'IND', 'Japan':'JPN', 'Ireland':'IRL', 'Brazil':'BRA', \n",
    "               'Zambia':'ZMB', 'New Zealand':'NZL', 'Israel':'ISR', 'Indonesia':'IDN', 'Slovenia':'SVN', \n",
    "               'Austria':'AUT', 'Ethiopia':'ETH', 'Russia':'RUS', 'Kenya':'KEN', 'Kuwait':'KWT', 'South Africa':'ZAF',\n",
    "               'Portugal':'PRT', 'Malaysia':'MYS', 'Iran':'IRN', 'Malawi':'MWI', 'Egypt':'EGY', 'Jamaica':'JAM',\n",
    "               'Mexico':'MEX', 'Greece':'GRC', 'Argentia':'ARG', 'Uganda':'UGA', 'Bulgaria':'BGR', 'Croatia':'HRV',\n",
    "               'Hungary':'HUN', 'Lithuania':'LTU', 'Romania':'ROU', 'Chile':'CHL', 'Cote Ivoire':'CIV', 'Saudi Arabia':'SAU',\n",
    "               'Peru':'PER', 'Vietnam':'VNM', 'Tunisia':'TUN'}"
   ]
  },
  {
   "cell_type": "code",
   "execution_count": null,
   "metadata": {},
   "outputs": [],
   "source": [
    "table = pd.read_csv('table_updated.csv').drop(['序号', '施引年份'], axis=1)\n",
    "table.head()"
   ]
  },
  {
   "cell_type": "code",
   "execution_count": null,
   "metadata": {},
   "outputs": [],
   "source": [
    "table = table.groupby('施引国家或地区').sum().reset_index()\n",
    "table.head()"
   ]
  },
  {
   "cell_type": "code",
   "execution_count": null,
   "metadata": {},
   "outputs": [],
   "source": [
    "table['国家码'] = table['施引国家或地区'].replace(country_dict)"
   ]
  },
  {
   "cell_type": "code",
   "execution_count": null,
   "metadata": {},
   "outputs": [],
   "source": [
    "fig = px.scatter_geo(table, locations=\"国家码\", color=\"国家码\",\n",
    "                     hover_name=\"国家码\", size=\"施引次数\", size_max=100,\n",
    "                     projection=\"natural earth\")\n",
    "fig.show()"
   ]
  },
  {
   "cell_type": "code",
   "execution_count": null,
   "metadata": {},
   "outputs": [],
   "source": [
    "# 可以看到，上图美国、中国、英国三个点明显大于其他，且造成了视觉上的压力\n",
    "# 尝试将['施引次数']开根再作图，同时用size_max调整下点的大小"
   ]
  },
  {
   "cell_type": "code",
   "execution_count": null,
   "metadata": {},
   "outputs": [],
   "source": [
    "table = pd.read_csv('table_updated.csv').groupby('施引国家或地区').sum().reset_index()\n",
    "table['国家码'] = table['施引国家或地区'].replace(country_dict)\n",
    "table['施引次数']=table.施引次数.transform(lambda x : np.sqrt(x))\n",
    "fig = px.scatter_geo(table, locations=\"国家码\", color=\"国家码\",\n",
    "                     hover_name=\"国家码\", size=\"施引次数\", size_max=80,\n",
    "                     projection=\"natural earth\")\n",
    "fig.show()"
   ]
  },
  {
   "cell_type": "code",
   "execution_count": null,
   "metadata": {},
   "outputs": [],
   "source": [
    "# 用3D地球仪试试可视化的效果\n",
    "table = pd.read_csv('table_updated.csv').groupby('施引国家或地区').sum().reset_index()\n",
    "table['国家码'] = table['施引国家或地区'].replace(country_dict)\n",
    "table['施引次数']=table.施引次数.transform(lambda x : np.sqrt(x))\n",
    "fig = px.scatter_geo(table, locations=\"国家码\", color=\"国家码\",\n",
    "                     hover_name=\"国家码\", size=\"施引次数\", size_max=80,\n",
    "                     projection=\"orthographic\")\n",
    "fig.show()\n",
    "# 事实证明，效果一般；还是平面图表现力好"
   ]
  },
  {
   "cell_type": "code",
   "execution_count": null,
   "metadata": {},
   "outputs": [],
   "source": [
    "table_for_time = pd.read_csv('table_updated.csv').drop('序号', axis=1)\n",
    "table_for_time['国家码'] = table_for_time['施引国家或地区'].replace(country_dict)\n",
    "table_for_time.head()"
   ]
  },
  {
   "cell_type": "code",
   "execution_count": null,
   "metadata": {},
   "outputs": [],
   "source": [
    "table_for_time = table_for_time.groupby(['施引年份' ,'施引国家或地区', '国家码']).sum()\n",
    "table_for_time.head()"
   ]
  },
  {
   "cell_type": "code",
   "execution_count": null,
   "metadata": {},
   "outputs": [],
   "source": [
    "table_for_time = table_for_time.reset_index('施引年份')\n",
    "table_for_time.head()"
   ]
  },
  {
   "cell_type": "code",
   "execution_count": null,
   "metadata": {},
   "outputs": [],
   "source": [
    "table_for_time = table_for_time.reset_index('国家码')"
   ]
  },
  {
   "cell_type": "code",
   "execution_count": null,
   "metadata": {},
   "outputs": [],
   "source": [
    "table_for_time.head(10)"
   ]
  },
  {
   "cell_type": "code",
   "execution_count": null,
   "metadata": {},
   "outputs": [],
   "source": [
    "fig = px.scatter_geo(table_for_time, locations=\"国家码\", color=\"国家码\",\n",
    "                     hover_name=\"国家码\", size=\"施引次数\", size_max=80, \n",
    "                     animation_frame='施引年份',\n",
    "                     projection=\"natural earth\")\n",
    "fig.show()"
   ]
  },
  {
   "cell_type": "markdown",
   "metadata": {},
   "source": [
    "# choropleth绘制热力图"
   ]
  },
  {
   "cell_type": "code",
   "execution_count": null,
   "metadata": {},
   "outputs": [],
   "source": [
    "table = pd.read_csv('table_updated.csv')\n",
    "table['国家码'] = table['施引国家或地区'].replace(country_dict)\n",
    "table = table.groupby(['施引国家或地区', '国家码', '施引年份']).sum()"
   ]
  },
  {
   "cell_type": "code",
   "execution_count": null,
   "metadata": {},
   "outputs": [],
   "source": [
    "table.head(5)"
   ]
  },
  {
   "cell_type": "code",
   "execution_count": null,
   "metadata": {},
   "outputs": [],
   "source": [
    "table = table.reset_index('国家码')"
   ]
  },
  {
   "cell_type": "code",
   "execution_count": null,
   "metadata": {},
   "outputs": [],
   "source": [
    "table = table.reset_index('施引年份')"
   ]
  },
  {
   "cell_type": "code",
   "execution_count": null,
   "metadata": {},
   "outputs": [],
   "source": [
    "table = table.sort_values('施引年份')"
   ]
  },
  {
   "cell_type": "code",
   "execution_count": null,
   "metadata": {},
   "outputs": [],
   "source": [
    "px.choropleth(table, locations='国家码', color='施引次数', hover_name='国家码', animation_frame='施引年份', \n",
    "             color_continuous_scale=px.colors.sequential.Plasma,projection='natural earth')"
   ]
  },
  {
   "cell_type": "code",
   "execution_count": null,
   "metadata": {},
   "outputs": [],
   "source": []
  }
 ],
 "metadata": {
  "kernelspec": {
   "display_name": "Python 3",
   "language": "python",
   "name": "python3"
  },
  "language_info": {
   "codemirror_mode": {
    "name": "ipython",
    "version": 3
   },
   "file_extension": ".py",
   "mimetype": "text/x-python",
   "name": "python",
   "nbconvert_exporter": "python",
   "pygments_lexer": "ipython3",
   "version": "3.6.8"
  }
 },
 "nbformat": 4,
 "nbformat_minor": 2
}
